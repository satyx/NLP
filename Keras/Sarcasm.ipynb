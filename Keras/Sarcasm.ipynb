{
  "nbformat": 4,
  "nbformat_minor": 0,
  "metadata": {
    "colab": {
      "name": "Sarcasm.ipynb",
      "version": "0.3.2",
      "provenance": [],
      "collapsed_sections": []
    },
    "kernelspec": {
      "name": "python3",
      "display_name": "Python 3"
    },
    "accelerator": "GPU"
  },
  "cells": [
    {
      "cell_type": "code",
      "metadata": {
        "id": "3xVRNqhhkCud",
        "colab_type": "code",
        "colab": {}
      },
      "source": [
        "import tensorflow as tf\n",
        "import json\n",
        "import numpy as np"
      ],
      "execution_count": 0,
      "outputs": []
    },
    {
      "cell_type": "code",
      "metadata": {
        "id": "jeoSsIEqkrFD",
        "colab_type": "code",
        "colab": {}
      },
      "source": [
        "with open(\"Sarcasm_Headlines_Dataset.json\") as f:\n",
        "  datastore = f.read()"
      ],
      "execution_count": 0,
      "outputs": []
    },
    {
      "cell_type": "code",
      "metadata": {
        "id": "MTeXHkEgk84F",
        "colab_type": "code",
        "colab": {
          "base_uri": "https://localhost:8080/",
          "height": 358
        },
        "outputId": "32e8f25e-cc59-4820-ee73-5df730586d46"
      },
      "source": [
        "sentences = []\n",
        "urls=[]\n",
        "labels=[]\n",
        "datastore=datastore.split('\\n')\n",
        "for data in datastore:\n",
        "  temp = json.loads(data)\n",
        "  sentences.append(temp['headline'])\n",
        "  urls.append(temp['article_link'])\n",
        "  labels.append(temp['is_sarcastic'])"
      ],
      "execution_count": 4,
      "outputs": [
        {
          "output_type": "error",
          "ename": "JSONDecodeError",
          "evalue": "ignored",
          "traceback": [
            "\u001b[0;31m---------------------------------------------------------------------------\u001b[0m",
            "\u001b[0;31mJSONDecodeError\u001b[0m                           Traceback (most recent call last)",
            "\u001b[0;32m<ipython-input-4-a0d5842e965b>\u001b[0m in \u001b[0;36m<module>\u001b[0;34m()\u001b[0m\n\u001b[1;32m      4\u001b[0m \u001b[0mdatastore\u001b[0m\u001b[0;34m=\u001b[0m\u001b[0mdatastore\u001b[0m\u001b[0;34m.\u001b[0m\u001b[0msplit\u001b[0m\u001b[0;34m(\u001b[0m\u001b[0;34m'\\n'\u001b[0m\u001b[0;34m)\u001b[0m\u001b[0;34m\u001b[0m\u001b[0;34m\u001b[0m\u001b[0m\n\u001b[1;32m      5\u001b[0m \u001b[0;32mfor\u001b[0m \u001b[0mdata\u001b[0m \u001b[0;32min\u001b[0m \u001b[0mdatastore\u001b[0m\u001b[0;34m:\u001b[0m\u001b[0;34m\u001b[0m\u001b[0;34m\u001b[0m\u001b[0m\n\u001b[0;32m----> 6\u001b[0;31m   \u001b[0mtemp\u001b[0m \u001b[0;34m=\u001b[0m \u001b[0mjson\u001b[0m\u001b[0;34m.\u001b[0m\u001b[0mloads\u001b[0m\u001b[0;34m(\u001b[0m\u001b[0mdata\u001b[0m\u001b[0;34m)\u001b[0m\u001b[0;34m\u001b[0m\u001b[0;34m\u001b[0m\u001b[0m\n\u001b[0m\u001b[1;32m      7\u001b[0m   \u001b[0msentences\u001b[0m\u001b[0;34m.\u001b[0m\u001b[0mappend\u001b[0m\u001b[0;34m(\u001b[0m\u001b[0mtemp\u001b[0m\u001b[0;34m[\u001b[0m\u001b[0;34m'headline'\u001b[0m\u001b[0;34m]\u001b[0m\u001b[0;34m)\u001b[0m\u001b[0;34m\u001b[0m\u001b[0;34m\u001b[0m\u001b[0m\n\u001b[1;32m      8\u001b[0m   \u001b[0murls\u001b[0m\u001b[0;34m.\u001b[0m\u001b[0mappend\u001b[0m\u001b[0;34m(\u001b[0m\u001b[0mtemp\u001b[0m\u001b[0;34m[\u001b[0m\u001b[0;34m'article_link'\u001b[0m\u001b[0;34m]\u001b[0m\u001b[0;34m)\u001b[0m\u001b[0;34m\u001b[0m\u001b[0;34m\u001b[0m\u001b[0m\n",
            "\u001b[0;32m/usr/lib/python3.6/json/__init__.py\u001b[0m in \u001b[0;36mloads\u001b[0;34m(s, encoding, cls, object_hook, parse_float, parse_int, parse_constant, object_pairs_hook, **kw)\u001b[0m\n\u001b[1;32m    352\u001b[0m             \u001b[0mparse_int\u001b[0m \u001b[0;32mis\u001b[0m \u001b[0;32mNone\u001b[0m \u001b[0;32mand\u001b[0m \u001b[0mparse_float\u001b[0m \u001b[0;32mis\u001b[0m \u001b[0;32mNone\u001b[0m \u001b[0;32mand\u001b[0m\u001b[0;34m\u001b[0m\u001b[0;34m\u001b[0m\u001b[0m\n\u001b[1;32m    353\u001b[0m             parse_constant is None and object_pairs_hook is None and not kw):\n\u001b[0;32m--> 354\u001b[0;31m         \u001b[0;32mreturn\u001b[0m \u001b[0m_default_decoder\u001b[0m\u001b[0;34m.\u001b[0m\u001b[0mdecode\u001b[0m\u001b[0;34m(\u001b[0m\u001b[0ms\u001b[0m\u001b[0;34m)\u001b[0m\u001b[0;34m\u001b[0m\u001b[0;34m\u001b[0m\u001b[0m\n\u001b[0m\u001b[1;32m    355\u001b[0m     \u001b[0;32mif\u001b[0m \u001b[0mcls\u001b[0m \u001b[0;32mis\u001b[0m \u001b[0;32mNone\u001b[0m\u001b[0;34m:\u001b[0m\u001b[0;34m\u001b[0m\u001b[0;34m\u001b[0m\u001b[0m\n\u001b[1;32m    356\u001b[0m         \u001b[0mcls\u001b[0m \u001b[0;34m=\u001b[0m \u001b[0mJSONDecoder\u001b[0m\u001b[0;34m\u001b[0m\u001b[0;34m\u001b[0m\u001b[0m\n",
            "\u001b[0;32m/usr/lib/python3.6/json/decoder.py\u001b[0m in \u001b[0;36mdecode\u001b[0;34m(self, s, _w)\u001b[0m\n\u001b[1;32m    337\u001b[0m \u001b[0;34m\u001b[0m\u001b[0m\n\u001b[1;32m    338\u001b[0m         \"\"\"\n\u001b[0;32m--> 339\u001b[0;31m         \u001b[0mobj\u001b[0m\u001b[0;34m,\u001b[0m \u001b[0mend\u001b[0m \u001b[0;34m=\u001b[0m \u001b[0mself\u001b[0m\u001b[0;34m.\u001b[0m\u001b[0mraw_decode\u001b[0m\u001b[0;34m(\u001b[0m\u001b[0ms\u001b[0m\u001b[0;34m,\u001b[0m \u001b[0midx\u001b[0m\u001b[0;34m=\u001b[0m\u001b[0m_w\u001b[0m\u001b[0;34m(\u001b[0m\u001b[0ms\u001b[0m\u001b[0;34m,\u001b[0m \u001b[0;36m0\u001b[0m\u001b[0;34m)\u001b[0m\u001b[0;34m.\u001b[0m\u001b[0mend\u001b[0m\u001b[0;34m(\u001b[0m\u001b[0;34m)\u001b[0m\u001b[0;34m)\u001b[0m\u001b[0;34m\u001b[0m\u001b[0;34m\u001b[0m\u001b[0m\n\u001b[0m\u001b[1;32m    340\u001b[0m         \u001b[0mend\u001b[0m \u001b[0;34m=\u001b[0m \u001b[0m_w\u001b[0m\u001b[0;34m(\u001b[0m\u001b[0ms\u001b[0m\u001b[0;34m,\u001b[0m \u001b[0mend\u001b[0m\u001b[0;34m)\u001b[0m\u001b[0;34m.\u001b[0m\u001b[0mend\u001b[0m\u001b[0;34m(\u001b[0m\u001b[0;34m)\u001b[0m\u001b[0;34m\u001b[0m\u001b[0;34m\u001b[0m\u001b[0m\n\u001b[1;32m    341\u001b[0m         \u001b[0;32mif\u001b[0m \u001b[0mend\u001b[0m \u001b[0;34m!=\u001b[0m \u001b[0mlen\u001b[0m\u001b[0;34m(\u001b[0m\u001b[0ms\u001b[0m\u001b[0;34m)\u001b[0m\u001b[0;34m:\u001b[0m\u001b[0;34m\u001b[0m\u001b[0;34m\u001b[0m\u001b[0m\n",
            "\u001b[0;32m/usr/lib/python3.6/json/decoder.py\u001b[0m in \u001b[0;36mraw_decode\u001b[0;34m(self, s, idx)\u001b[0m\n\u001b[1;32m    355\u001b[0m             \u001b[0mobj\u001b[0m\u001b[0;34m,\u001b[0m \u001b[0mend\u001b[0m \u001b[0;34m=\u001b[0m \u001b[0mself\u001b[0m\u001b[0;34m.\u001b[0m\u001b[0mscan_once\u001b[0m\u001b[0;34m(\u001b[0m\u001b[0ms\u001b[0m\u001b[0;34m,\u001b[0m \u001b[0midx\u001b[0m\u001b[0;34m)\u001b[0m\u001b[0;34m\u001b[0m\u001b[0;34m\u001b[0m\u001b[0m\n\u001b[1;32m    356\u001b[0m         \u001b[0;32mexcept\u001b[0m \u001b[0mStopIteration\u001b[0m \u001b[0;32mas\u001b[0m \u001b[0merr\u001b[0m\u001b[0;34m:\u001b[0m\u001b[0;34m\u001b[0m\u001b[0;34m\u001b[0m\u001b[0m\n\u001b[0;32m--> 357\u001b[0;31m             \u001b[0;32mraise\u001b[0m \u001b[0mJSONDecodeError\u001b[0m\u001b[0;34m(\u001b[0m\u001b[0;34m\"Expecting value\"\u001b[0m\u001b[0;34m,\u001b[0m \u001b[0ms\u001b[0m\u001b[0;34m,\u001b[0m \u001b[0merr\u001b[0m\u001b[0;34m.\u001b[0m\u001b[0mvalue\u001b[0m\u001b[0;34m)\u001b[0m \u001b[0;32mfrom\u001b[0m \u001b[0;32mNone\u001b[0m\u001b[0;34m\u001b[0m\u001b[0;34m\u001b[0m\u001b[0m\n\u001b[0m\u001b[1;32m    358\u001b[0m         \u001b[0;32mreturn\u001b[0m \u001b[0mobj\u001b[0m\u001b[0;34m,\u001b[0m \u001b[0mend\u001b[0m\u001b[0;34m\u001b[0m\u001b[0;34m\u001b[0m\u001b[0m\n",
            "\u001b[0;31mJSONDecodeError\u001b[0m: Expecting value: line 1 column 1 (char 0)"
          ]
        }
      ]
    },
    {
      "cell_type": "code",
      "metadata": {
        "id": "HDNBn3LEk-IO",
        "colab_type": "code",
        "colab": {}
      },
      "source": [
        "from tensorflow.keras.preprocessing.text import Tokenizer\n",
        "from tensorflow.keras.preprocessing.sequence import pad_sequences"
      ],
      "execution_count": 0,
      "outputs": []
    },
    {
      "cell_type": "code",
      "metadata": {
        "id": "azu_FcWdmHBb",
        "colab_type": "code",
        "colab": {}
      },
      "source": [
        "vocab_size=10000\n",
        "embedding_dim = 16\n",
        "max_length=120\n",
        "oov_tok = \"<OOV>\"\n",
        "trunc_type=\"post\"\n",
        "padding_type = 'post'\n",
        "training_size = 20000"
      ],
      "execution_count": 0,
      "outputs": []
    },
    {
      "cell_type": "code",
      "metadata": {
        "id": "_zvo7stSnQuz",
        "colab_type": "code",
        "colab": {}
      },
      "source": [
        "training_sentences = sentences[:training_size]\n",
        "training_labels = labels[:training_size]\n",
        "testing_sentences = sentences[training_size:]\n",
        "testing_labels = labels[training_size:]"
      ],
      "execution_count": 0,
      "outputs": []
    },
    {
      "cell_type": "code",
      "metadata": {
        "id": "gv5desmznUuy",
        "colab_type": "code",
        "colab": {}
      },
      "source": [
        "tokenizer = Tokenizer(num_words = vocab_size,oov_token = oov_tok)\n",
        "tokenizer.fit_on_texts(training_sentences)"
      ],
      "execution_count": 0,
      "outputs": []
    },
    {
      "cell_type": "code",
      "metadata": {
        "id": "1aZMbVVgoGa4",
        "colab_type": "code",
        "colab": {}
      },
      "source": [
        "word_index = tokenizer.word_index\n",
        "training_sequences = tokenizer.texts_to_sequences(training_sentences)\n",
        "training_padded = pad_sequences(training_sequences,maxlen=max_length,padding=padding_type,truncating=trunc_type)\n",
        "testing_sequences = tokenizer.texts_to_sequences(testing_sentences)\n",
        "testing_padded = pad_sequences(testing_sequences,maxlen=max_length,padding=padding_type,truncating=trunc_type)\n",
        "training_labels_final = np.array(training_labels)\n",
        "testing_labels_final = np.array(testing_labels)"
      ],
      "execution_count": 0,
      "outputs": []
    },
    {
      "cell_type": "code",
      "metadata": {
        "id": "1i4Aw2AWobsV",
        "colab_type": "code",
        "colab": {}
      },
      "source": [
        "model = tf.keras.Sequential([\n",
        "    tf.keras.layers.Embedding(vocab_size,embedding_dim,input_length = max_length),\n",
        "    tf.keras.layers.GlobalAveragePooling1D(),\n",
        "    tf.keras.layers.Dense(24,activation='relu'),\n",
        "    tf.keras.layers.Dropout(0.45),\n",
        "    tf.keras.layers.Dense(16,activation='relu'),\n",
        "    tf.keras.layers.Dropout(0.35),\n",
        "    tf.keras.layers.Dense(1,activation='sigmoid')\n",
        "])\n",
        "model.compile(loss='binary_crossentropy',optimizer='adam',metrics=['accuracy'])"
      ],
      "execution_count": 0,
      "outputs": []
    },
    {
      "cell_type": "code",
      "metadata": {
        "id": "G16bhxJus9YI",
        "colab_type": "code",
        "colab": {}
      },
      "source": [
        ""
      ],
      "execution_count": 0,
      "outputs": []
    },
    {
      "cell_type": "code",
      "metadata": {
        "id": "z4MI7ksuqOW8",
        "colab_type": "code",
        "colab": {
          "base_uri": "https://localhost:8080/",
          "height": 391
        },
        "outputId": "d5741a6a-3c6c-4b53-ae85-30e81153e428"
      },
      "source": [
        "model.summary()"
      ],
      "execution_count": 11,
      "outputs": [
        {
          "output_type": "stream",
          "text": [
            "Model: \"sequential\"\n",
            "_________________________________________________________________\n",
            "Layer (type)                 Output Shape              Param #   \n",
            "=================================================================\n",
            "embedding (Embedding)        (None, 120, 16)           160000    \n",
            "_________________________________________________________________\n",
            "global_average_pooling1d (Gl (None, 16)                0         \n",
            "_________________________________________________________________\n",
            "dense (Dense)                (None, 24)                408       \n",
            "_________________________________________________________________\n",
            "dropout (Dropout)            (None, 24)                0         \n",
            "_________________________________________________________________\n",
            "dense_1 (Dense)              (None, 16)                400       \n",
            "_________________________________________________________________\n",
            "dropout_1 (Dropout)          (None, 16)                0         \n",
            "_________________________________________________________________\n",
            "dense_2 (Dense)              (None, 1)                 17        \n",
            "=================================================================\n",
            "Total params: 160,825\n",
            "Trainable params: 160,825\n",
            "Non-trainable params: 0\n",
            "_________________________________________________________________\n"
          ],
          "name": "stdout"
        }
      ]
    },
    {
      "cell_type": "code",
      "metadata": {
        "id": "7YKSPkCPq7P-",
        "colab_type": "code",
        "colab": {
          "base_uri": "https://localhost:8080/",
          "height": 1000
        },
        "outputId": "3caf05f8-e8ed-46ec-bf50-b729e844839d"
      },
      "source": [
        "num_epochs = 30\n",
        "history = model.fit(training_padded,training_labels_final,epochs=num_epochs,validation_data = (testing_padded,testing_labels_final),verbose=2)"
      ],
      "execution_count": 12,
      "outputs": [
        {
          "output_type": "stream",
          "text": [
            "Train on 20000 samples, validate on 6709 samples\n",
            "Epoch 1/30\n",
            "20000/20000 - 2s - loss: 0.6823 - accuracy: 0.5602 - val_loss: 0.6603 - val_accuracy: 0.5633\n",
            "Epoch 2/30\n",
            "20000/20000 - 2s - loss: 0.5395 - accuracy: 0.7390 - val_loss: 0.4642 - val_accuracy: 0.8135\n",
            "Epoch 3/30\n",
            "20000/20000 - 2s - loss: 0.4159 - accuracy: 0.8615 - val_loss: 0.4110 - val_accuracy: 0.8442\n",
            "Epoch 4/30\n",
            "20000/20000 - 2s - loss: 0.3438 - accuracy: 0.8842 - val_loss: 0.4560 - val_accuracy: 0.8264\n",
            "Epoch 5/30\n",
            "20000/20000 - 2s - loss: 0.2963 - accuracy: 0.9018 - val_loss: 0.4221 - val_accuracy: 0.8459\n",
            "Epoch 6/30\n",
            "20000/20000 - 2s - loss: 0.2575 - accuracy: 0.9164 - val_loss: 0.4273 - val_accuracy: 0.8444\n",
            "Epoch 7/30\n",
            "20000/20000 - 2s - loss: 0.2286 - accuracy: 0.9261 - val_loss: 0.4506 - val_accuracy: 0.8283\n",
            "Epoch 8/30\n",
            "20000/20000 - 2s - loss: 0.2124 - accuracy: 0.9315 - val_loss: 0.5047 - val_accuracy: 0.8438\n",
            "Epoch 9/30\n",
            "20000/20000 - 2s - loss: 0.1923 - accuracy: 0.9390 - val_loss: 0.6590 - val_accuracy: 0.8331\n",
            "Epoch 10/30\n",
            "20000/20000 - 2s - loss: 0.1668 - accuracy: 0.9491 - val_loss: 0.5758 - val_accuracy: 0.8311\n",
            "Epoch 11/30\n",
            "20000/20000 - 2s - loss: 0.1547 - accuracy: 0.9528 - val_loss: 0.7143 - val_accuracy: 0.8365\n",
            "Epoch 12/30\n",
            "20000/20000 - 2s - loss: 0.1496 - accuracy: 0.9544 - val_loss: 0.7422 - val_accuracy: 0.8332\n",
            "Epoch 13/30\n",
            "20000/20000 - 2s - loss: 0.1437 - accuracy: 0.9553 - val_loss: 0.7494 - val_accuracy: 0.8281\n",
            "Epoch 14/30\n",
            "20000/20000 - 2s - loss: 0.1339 - accuracy: 0.9590 - val_loss: 0.9298 - val_accuracy: 0.8332\n",
            "Epoch 15/30\n",
            "20000/20000 - 2s - loss: 0.1207 - accuracy: 0.9653 - val_loss: 0.9765 - val_accuracy: 0.8314\n",
            "Epoch 16/30\n",
            "20000/20000 - 2s - loss: 0.1218 - accuracy: 0.9642 - val_loss: 0.9089 - val_accuracy: 0.8255\n",
            "Epoch 17/30\n",
            "20000/20000 - 2s - loss: 0.1141 - accuracy: 0.9671 - val_loss: 1.1830 - val_accuracy: 0.8328\n",
            "Epoch 18/30\n",
            "20000/20000 - 2s - loss: 0.1068 - accuracy: 0.9696 - val_loss: 1.1462 - val_accuracy: 0.8278\n",
            "Epoch 19/30\n",
            "20000/20000 - 2s - loss: 0.1087 - accuracy: 0.9686 - val_loss: 1.2783 - val_accuracy: 0.8295\n",
            "Epoch 20/30\n",
            "20000/20000 - 2s - loss: 0.1037 - accuracy: 0.9707 - val_loss: 1.4884 - val_accuracy: 0.8298\n",
            "Epoch 21/30\n",
            "20000/20000 - 2s - loss: 0.0964 - accuracy: 0.9733 - val_loss: 1.1273 - val_accuracy: 0.8144\n",
            "Epoch 22/30\n",
            "20000/20000 - 2s - loss: 0.0985 - accuracy: 0.9722 - val_loss: 1.2576 - val_accuracy: 0.8228\n",
            "Epoch 23/30\n",
            "20000/20000 - 2s - loss: 0.0983 - accuracy: 0.9719 - val_loss: 1.5169 - val_accuracy: 0.8283\n",
            "Epoch 24/30\n",
            "20000/20000 - 2s - loss: 0.0961 - accuracy: 0.9743 - val_loss: 1.6040 - val_accuracy: 0.8290\n",
            "Epoch 25/30\n",
            "20000/20000 - 2s - loss: 0.0899 - accuracy: 0.9757 - val_loss: 1.3396 - val_accuracy: 0.8205\n",
            "Epoch 26/30\n",
            "20000/20000 - 2s - loss: 0.0953 - accuracy: 0.9730 - val_loss: 1.6359 - val_accuracy: 0.8261\n",
            "Epoch 27/30\n",
            "20000/20000 - 2s - loss: 0.0841 - accuracy: 0.9773 - val_loss: 1.8247 - val_accuracy: 0.8246\n",
            "Epoch 28/30\n",
            "20000/20000 - 2s - loss: 0.0897 - accuracy: 0.9754 - val_loss: 1.7292 - val_accuracy: 0.8271\n",
            "Epoch 29/30\n",
            "20000/20000 - 2s - loss: 0.0886 - accuracy: 0.9764 - val_loss: 1.3452 - val_accuracy: 0.8052\n",
            "Epoch 30/30\n",
            "20000/20000 - 2s - loss: 0.0843 - accuracy: 0.9785 - val_loss: 2.1895 - val_accuracy: 0.8250\n"
          ],
          "name": "stdout"
        }
      ]
    },
    {
      "cell_type": "code",
      "metadata": {
        "id": "0WDlaCRtrSJF",
        "colab_type": "code",
        "colab": {
          "base_uri": "https://localhost:8080/",
          "height": 550
        },
        "outputId": "c868c498-47a1-4280-8c41-b2524b4f5965"
      },
      "source": [
        "import matplotlib.pyplot as plt\n",
        "def plot_graph(history,string):\n",
        "  plt.plot(history.history[string])\n",
        "  plt.plot(history.history['val_'+string])\n",
        "  plt.xlabel(\"Epochs\")\n",
        "  plt.ylabel(string)\n",
        "  plt.legend([string,'val_'+string])\n",
        "  plt.show()\n",
        "  \n",
        "plot_graph(history,'accuracy')\n",
        "plot_graph(history,'loss')"
      ],
      "execution_count": 16,
      "outputs": [
        {
          "output_type": "display_data",
          "data": {
            "image/png": "[encoded data removed]",
            "text/plain": [
              "<Figure size 432x288 with 1 Axes>"
            ]
          },
          "metadata": {
            "tags": []
          }
        },
        {
          "output_type": "display_data",
          "data": {
            "image/png": "[encoded data removed]",
            "text/plain": [
              "<Figure size 432x288 with 1 Axes>"
            ]
          },
          "metadata": {
            "tags": []
          }
        }
      ]
    },
    {
      "cell_type": "code",
      "metadata": {
        "id": "6su-19eTujtA",
        "colab_type": "code",
        "colab": {}
      },
      "source": [
        "print(tf.__version__)"
      ],
      "execution_count": 0,
      "outputs": []
    },
    {
      "cell_type": "code",
      "metadata": {
        "id": "aWqETmIQxfbN",
        "colab_type": "code",
        "colab": {
          "base_uri": "https://localhost:8080/",
          "height": 1000
        },
        "outputId": "9cfa369e-29e2-4a3e-9f77-402e587afd7c"
      },
      "source": [
        ""
      ],
      "execution_count": 15,
      "outputs": [
        {
          "output_type": "execute_result",
          "data": {
            "text/plain": [
              "{'accuracy': [0.56025,\n",
              "  0.739,\n",
              "  0.86155,\n",
              "  0.88415,\n",
              "  0.90185,\n",
              "  0.91635,\n",
              "  0.9261,\n",
              "  0.93145,\n",
              "  0.93895,\n",
              "  0.9491,\n",
              "  0.95275,\n",
              "  0.9544,\n",
              "  0.9553,\n",
              "  0.95905,\n",
              "  0.9653,\n",
              "  0.9642,\n",
              "  0.96715,\n",
              "  0.96965,\n",
              "  0.9686,\n",
              "  0.97075,\n",
              "  0.97335,\n",
              "  0.97225,\n",
              "  0.97195,\n",
              "  0.97425,\n",
              "  0.97565,\n",
              "  0.97305,\n",
              "  0.97735,\n",
              "  0.97545,\n",
              "  0.9764,\n",
              "  0.9785],\n",
              " 'loss': [0.6822946558952332,\n",
              "  0.53946876745224,\n",
              "  0.41586095900535586,\n",
              "  0.34375927171707155,\n",
              "  0.29626736097335815,\n",
              "  0.2575280608654022,\n",
              "  0.2286004462838173,\n",
              "  0.21242998178601266,\n",
              "  0.19234060341715814,\n",
              "  0.16676001828312872,\n",
              "  0.15474046356081964,\n",
              "  0.14961854503154753,\n",
              "  0.14370496816933154,\n",
              "  0.1339364705890417,\n",
              "  0.12071613608002663,\n",
              "  0.12181058850586414,\n",
              "  0.11409542077481746,\n",
              "  0.10681660788357258,\n",
              "  0.10872285594940186,\n",
              "  0.10372618427425623,\n",
              "  0.0963610821440816,\n",
              "  0.09853345412015915,\n",
              "  0.0982596321567893,\n",
              "  0.09610810123831033,\n",
              "  0.08985119165033102,\n",
              "  0.09534390311837196,\n",
              "  0.08407581506222486,\n",
              "  0.08970232297182083,\n",
              "  0.0886421047270298,\n",
              "  0.08430392946004868],\n",
              " 'val_accuracy': [0.5632732,\n",
              "  0.8135341,\n",
              "  0.84423906,\n",
              "  0.82635266,\n",
              "  0.84587866,\n",
              "  0.8443881,\n",
              "  0.82829034,\n",
              "  0.8437919,\n",
              "  0.8330601,\n",
              "  0.8311224,\n",
              "  0.8364883,\n",
              "  0.8332091,\n",
              "  0.82814133,\n",
              "  0.8332091,\n",
              "  0.8314205,\n",
              "  0.82545835,\n",
              "  0.83276194,\n",
              "  0.8278432,\n",
              "  0.8294828,\n",
              "  0.8297809,\n",
              "  0.8144284,\n",
              "  0.82277536,\n",
              "  0.82829034,\n",
              "  0.82903564,\n",
              "  0.8205396,\n",
              "  0.8260546,\n",
              "  0.82456404,\n",
              "  0.82709795,\n",
              "  0.80518705,\n",
              "  0.8250112],\n",
              " 'val_loss': [0.6603478391313716,\n",
              "  0.4641942311184366,\n",
              "  0.41102619027394904,\n",
              "  0.45601045817052366,\n",
              "  0.42210751687081993,\n",
              "  0.42730200440380073,\n",
              "  0.4506441147925513,\n",
              "  0.5046942133957876,\n",
              "  0.659020539762402,\n",
              "  0.5758414503305214,\n",
              "  0.7142976909578246,\n",
              "  0.7421570130371091,\n",
              "  0.7493639783143891,\n",
              "  0.9298080593627405,\n",
              "  0.976498181748575,\n",
              "  0.9088664204037692,\n",
              "  1.1829504233782613,\n",
              "  1.146218738806978,\n",
              "  1.2782865973223623,\n",
              "  1.4883948363922341,\n",
              "  1.1273075438706064,\n",
              "  1.2575612304320472,\n",
              "  1.516861610901944,\n",
              "  1.604009561343953,\n",
              "  1.339557042649969,\n",
              "  1.6358965328436599,\n",
              "  1.8246587660934908,\n",
              "  1.7291788388282963,\n",
              "  1.3452257578322138,\n",
              "  2.1894797393045726]}"
            ]
          },
          "metadata": {
            "tags": []
          },
          "execution_count": 15
        }
      ]
    },
    {
      "cell_type": "code",
      "metadata": {
        "id": "fq_7sP8mxnE9",
        "colab_type": "code",
        "colab": {}
      },
      "source": [
        ""
      ],
      "execution_count": 0,
      "outputs": []
    }
  ]
}