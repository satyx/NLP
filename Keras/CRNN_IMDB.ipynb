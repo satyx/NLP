{
  "nbformat": 4,
  "nbformat_minor": 0,
  "metadata": {
    "colab": {
      "name": "CRNN_IMDB.ipynb",
      "version": "0.3.2",
      "provenance": []
    },
    "kernelspec": {
      "name": "python3",
      "display_name": "Python 3"
    },
    "accelerator": "GPU"
  },
  "cells": [
    {
      "cell_type": "code",
      "metadata": {
        "id": "mmdeuVx0IzhV",
        "colab_type": "code",
        "colab": {
          "base_uri": "https://localhost:8080/",
          "height": 34
        },
        "outputId": "fa50b8a5-d706-4928-b9fd-eda12c26931a"
      },
      "source": [
        "import tensorflow as tf\n",
        "print(tf.__version__)"
      ],
      "execution_count": 1,
      "outputs": [
        {
          "output_type": "stream",
          "text": [
            "2.0.0-alpha0\n"
          ],
          "name": "stdout"
        }
      ]
    },
    {
      "cell_type": "code",
      "metadata": {
        "id": "gFIXE6qMI8W9",
        "colab_type": "code",
        "colab": {}
      },
      "source": [
        "import tensorflow_datasets as tfds\n",
        "import json"
      ],
      "execution_count": 0,
      "outputs": []
    },
    {
      "cell_type": "code",
      "metadata": {
        "id": "gnT6v8hGJNXG",
        "colab_type": "code",
        "colab": {}
      },
      "source": [
        "imdb,info = tfds.load(\"imdb_reviews\",with_info = True, as_supervised=True)"
      ],
      "execution_count": 0,
      "outputs": []
    },
    {
      "cell_type": "code",
      "metadata": {
        "id": "2NqOdjyXJPHk",
        "colab_type": "code",
        "colab": {}
      },
      "source": [
        "train_data = imdb['train']\n",
        "test_data = imdb['test']\n",
        "\n",
        "training_sentences=[]\n",
        "training_labels = []\n",
        "testing_sentences = []\n",
        "testing_labels = []\n",
        "\n",
        "for s,l in train_data:\n",
        "  training_sentences.append(str(s.numpy()))\n",
        "  training_labels.append(l.numpy())\n",
        "  \n",
        "for s,l in test_data:\n",
        "  testing_sentences.append(str(s.numpy()))\n",
        "  testing_labels.append(l.numpy())"
      ],
      "execution_count": 0,
      "outputs": []
    },
    {
      "cell_type": "code",
      "metadata": {
        "id": "pR9BfQH1JRQF",
        "colab_type": "code",
        "colab": {}
      },
      "source": [
        "vocab_size = 10000\n",
        "embedding_dim = 16\n",
        "oov_tok =\"<OOV>\"\n",
        "max_length = 100\n",
        "trunc_type = \"post\"\n",
        "pad_type = \"post\"\n"
      ],
      "execution_count": 0,
      "outputs": []
    },
    {
      "cell_type": "code",
      "metadata": {
        "id": "cmw4GfHrJViL",
        "colab_type": "code",
        "colab": {}
      },
      "source": [
        "\n",
        "from tensorflow.keras.preprocessing.text import Tokenizer\n",
        "from tensorflow.keras.preprocessing.sequence import pad_sequences\n",
        "import numpy as np\n",
        "\n",
        "tokenizer = Tokenizer(num_words = vocab_size, oov_token = oov_tok)\n",
        "tokenizer.fit_on_texts(training_sentences)\n",
        "word_index = tokenizer.word_index"
      ],
      "execution_count": 0,
      "outputs": []
    },
    {
      "cell_type": "code",
      "metadata": {
        "id": "N1eu_UPlJXMN",
        "colab_type": "code",
        "colab": {}
      },
      "source": [
        "sequences = tokenizer.texts_to_sequences(training_sentences)\n",
        "training_padded = pad_sequences(sequences,maxlen = max_length, padding = \"post\", truncating=trunc_type)\n",
        "\n",
        "testing_seq = tokenizer.texts_to_sequences(testing_sentences)\n",
        "testing_padded = pad_sequences(testing_seq,maxlen = max_length, padding = \"post\", truncating=trunc_type)\n",
        "training_labels_final = np.array(training_labels)\n",
        "testing_labels_final = np.array(testing_labels)"
      ],
      "execution_count": 0,
      "outputs": []
    },
    {
      "cell_type": "code",
      "metadata": {
        "id": "mKTNnjAHJbNZ",
        "colab_type": "code",
        "colab": {
          "base_uri": "https://localhost:8080/",
          "height": 323
        },
        "outputId": "8f1a8e25-53bd-4ed8-b65b-298371e2f426"
      },
      "source": [
        "model = tf.keras.Sequential([\n",
        "    tf.keras.layers.Embedding(vocab_size,embedding_dim,input_length = max_length),\n",
        "    tf.keras.layers.Conv1D(128,5,activation='relu'),\n",
        "    tf.keras.layers.GlobalMaxPool1D(),\n",
        "    tf.keras.layers.Dense(32,activation = 'relu'),\n",
        "    tf.keras.layers.Dense(1,activation = 'sigmoid')\n",
        "])\n",
        "model.summary()"
      ],
      "execution_count": 9,
      "outputs": [
        {
          "output_type": "stream",
          "text": [
            "Model: \"sequential\"\n",
            "_________________________________________________________________\n",
            "Layer (type)                 Output Shape              Param #   \n",
            "=================================================================\n",
            "embedding (Embedding)        (None, 100, 16)           160000    \n",
            "_________________________________________________________________\n",
            "conv1d (Conv1D)              (None, 96, 128)           10368     \n",
            "_________________________________________________________________\n",
            "global_max_pooling1d (Global (None, 128)               0         \n",
            "_________________________________________________________________\n",
            "dense (Dense)                (None, 32)                4128      \n",
            "_________________________________________________________________\n",
            "dense_1 (Dense)              (None, 1)                 33        \n",
            "=================================================================\n",
            "Total params: 174,529\n",
            "Trainable params: 174,529\n",
            "Non-trainable params: 0\n",
            "_________________________________________________________________\n"
          ],
          "name": "stdout"
        }
      ]
    },
    {
      "cell_type": "code",
      "metadata": {
        "id": "XiGbj7pSKREK",
        "colab_type": "code",
        "colab": {
          "base_uri": "https://localhost:8080/",
          "height": 374
        },
        "outputId": "3ecb259b-710b-4efd-ca59-134bb0130cb5"
      },
      "source": [
        "num_epochs = 10\n",
        "model.compile(optimizer='adam',loss='binary_crossentropy',metrics=['accuracy'])\n",
        "history = model.fit(training_padded,training_labels_final,epochs=num_epochs,validation_data=(testing_padded,testing_labels_final))"
      ],
      "execution_count": 15,
      "outputs": [
        {
          "output_type": "stream",
          "text": [
            "Train on 25000 samples, validate on 25000 samples\n",
            "Epoch 1/10\n",
            "25000/25000 [==============================] - 13s 517us/sample - loss: 0.5171 - accuracy: 0.7227 - val_loss: 0.4104 - val_accuracy: 0.8106\n",
            "Epoch 2/10\n",
            "25000/25000 [==============================] - 13s 515us/sample - loss: 0.3128 - accuracy: 0.8688 - val_loss: 0.4188 - val_accuracy: 0.8103\n",
            "Epoch 3/10\n",
            "25000/25000 [==============================] - 13s 507us/sample - loss: 0.1994 - accuracy: 0.9242 - val_loss: 0.4676 - val_accuracy: 0.8080\n",
            "Epoch 4/10\n",
            "25000/25000 [==============================] - 13s 504us/sample - loss: 0.1092 - accuracy: 0.9634 - val_loss: 0.5995 - val_accuracy: 0.8029\n",
            "Epoch 5/10\n",
            "25000/25000 [==============================] - 13s 515us/sample - loss: 0.0476 - accuracy: 0.9874 - val_loss: 0.7573 - val_accuracy: 0.7972\n",
            "Epoch 6/10\n",
            "25000/25000 [==============================] - 13s 502us/sample - loss: 0.0161 - accuracy: 0.9971 - val_loss: 0.9068 - val_accuracy: 0.7978\n",
            "Epoch 7/10\n",
            "25000/25000 [==============================] - 12s 496us/sample - loss: 0.0053 - accuracy: 0.9994 - val_loss: 1.0237 - val_accuracy: 0.7951\n",
            "Epoch 8/10\n",
            "25000/25000 [==============================] - 12s 494us/sample - loss: 0.0016 - accuracy: 0.9999 - val_loss: 1.1490 - val_accuracy: 0.7893\n",
            "Epoch 9/10\n",
            "25000/25000 [==============================] - 12s 489us/sample - loss: 5.8116e-04 - accuracy: 1.0000 - val_loss: 1.2384 - val_accuracy: 0.7949\n",
            "Epoch 10/10\n",
            "25000/25000 [==============================] - 12s 498us/sample - loss: 1.7741e-04 - accuracy: 1.0000 - val_loss: 1.3057 - val_accuracy: 0.7951\n"
          ],
          "name": "stdout"
        }
      ]
    },
    {
      "cell_type": "code",
      "metadata": {
        "id": "rDE6ogRVKqb8",
        "colab_type": "code",
        "colab": {}
      },
      "source": [
        "import matplotlib.pyplot as plt\n",
        "def plot_graph(history,string):\n",
        "  plt.plot(history.history[string])\n",
        "  plt.plot(history.history['val_'+string])\n",
        "  plt.xlabel('epochs')\n",
        "  plt.ylabel(string)\n",
        "  plt.legend([string,'val_'+string])\n",
        "  plt.show()"
      ],
      "execution_count": 0,
      "outputs": []
    },
    {
      "cell_type": "code",
      "metadata": {
        "id": "h7Qi_tyMMIEI",
        "colab_type": "code",
        "colab": {
          "base_uri": "https://localhost:8080/",
          "height": 549
        },
        "outputId": "f8e49c6a-4db5-4960-c79a-ea8f79447caa"
      },
      "source": [
        "plot_graph(history,'accuracy')\n",
        "plot_graph(history,'loss')"
      ],
      "execution_count": 17,
      "outputs": [
        {
          "output_type": "display_data",
          "data": {
            "image/png": "[encoded data removed]",
            "text/plain": [
              "<Figure size 432x288 with 1 Axes>"
            ]
          },
          "metadata": {
            "tags": []
          }
        },
        {
          "output_type": "display_data",
          "data": {
            "image/png": "[encoded data removed]",
            "text/plain": [
              "<Figure size 432x288 with 1 Axes>"
            ]
          },
          "metadata": {
            "tags": []
          }
        }
      ]
    },
    {
      "cell_type": "code",
      "metadata": {
        "id": "7Kfqfp29MKSz",
        "colab_type": "code",
        "colab": {}
      },
      "source": [
        ""
      ],
      "execution_count": 0,
      "outputs": []
    }
  ]
}