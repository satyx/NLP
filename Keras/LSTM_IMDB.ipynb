{
  "nbformat": 4,
  "nbformat_minor": 0,
  "metadata": {
    "colab": {
      "name": "LSTM_IMDB.ipynb",
      "version": "0.3.2",
      "provenance": []
    },
    "kernelspec": {
      "name": "python3",
      "display_name": "Python 3"
    },
    "accelerator": "GPU"
  },
  "cells": [
    {
      "cell_type": "code",
      "metadata": {
        "id": "XMRQ4QIXLqmP",
        "colab_type": "code",
        "colab": {
          "base_uri": "https://localhost:8080/",
          "height": 34
        },
        "outputId": "5714edc4-a250-4b19-842c-9328f0af625e"
      },
      "source": [
        "import tensorflow as tf\n",
        "print(tf.__version__)\n",
        "#!pip install tensorflow==2.0.0-alpha0"
      ],
      "execution_count": 6,
      "outputs": [
        {
          "output_type": "stream",
          "text": [
            "2.0.0-alpha0\n"
          ],
          "name": "stdout"
        }
      ]
    },
    {
      "cell_type": "code",
      "metadata": {
        "id": "vnYi8ubtMDcL",
        "colab_type": "code",
        "colab": {}
      },
      "source": [
        "import tensorflow_datasets as tfds\n",
        "import json"
      ],
      "execution_count": 0,
      "outputs": []
    },
    {
      "cell_type": "code",
      "metadata": {
        "id": "MPj5EKt2MxCx",
        "colab_type": "code",
        "colab": {}
      },
      "source": [
        "imdb,info = tfds.load(\"imdb_reviews\",with_info = True, as_supervised=True)"
      ],
      "execution_count": 0,
      "outputs": []
    },
    {
      "cell_type": "code",
      "metadata": {
        "id": "YqA4g4sm03Cu",
        "colab_type": "code",
        "colab": {
          "base_uri": "https://localhost:8080/",
          "height": 34
        },
        "outputId": "d67a00bc-f322-46e0-c772-886e74aca841"
      },
      "source": [
        ""
      ],
      "execution_count": 42,
      "outputs": [
        {
          "output_type": "execute_result",
          "data": {
            "text/plain": [
              "tensorflow.python.data.ops.dataset_ops._OptionsDataset"
            ]
          },
          "metadata": {
            "tags": []
          },
          "execution_count": 42
        }
      ]
    },
    {
      "cell_type": "code",
      "metadata": {
        "id": "o7OWLzYHNDHz",
        "colab_type": "code",
        "colab": {}
      },
      "source": [
        "train_data = imdb['train']\n",
        "test_data = imdb['test']\n",
        "\n",
        "training_sentences=[]\n",
        "training_labels = []\n",
        "testing_sentences = []\n",
        "testing_labels = []\n",
        "\n",
        "for s,l in train_data:\n",
        "  training_sentences.append(str(s.numpy()))\n",
        "  training_labels.append(l.numpy())\n",
        "  \n",
        "for s,l in test_data:\n",
        "  testing_sentences.append(str(s.numpy()))\n",
        "  testing_labels.append(l.numpy())"
      ],
      "execution_count": 0,
      "outputs": []
    },
    {
      "cell_type": "code",
      "metadata": {
        "id": "N3CBpc78vWMH",
        "colab_type": "code",
        "colab": {}
      },
      "source": [
        "vocab_size = 10000\n",
        "embedding_dim = 16\n",
        "oov_tok =\"<OOV>\"\n",
        "max_length = 100\n",
        "trunc_type = \"post\"\n",
        "pad_type = \"post\"\n"
      ],
      "execution_count": 0,
      "outputs": []
    },
    {
      "cell_type": "code",
      "metadata": {
        "id": "T1c41A1_Ndbu",
        "colab_type": "code",
        "colab": {}
      },
      "source": [
        "from tensorflow.keras.preprocessing.text import Tokenizer\n",
        "from tensorflow.keras.preprocessing.sequence import pad_sequences\n",
        "import numpy as np\n",
        "\n",
        "tokenizer = Tokenizer(num_words = vocab_size, oov_token = oov_tok)\n",
        "tokenizer.fit_on_texts(training_sentences)\n",
        "word_index = tokenizer.word_index"
      ],
      "execution_count": 0,
      "outputs": []
    },
    {
      "cell_type": "code",
      "metadata": {
        "id": "hvN6UEeJvn6J",
        "colab_type": "code",
        "colab": {}
      },
      "source": [
        "sequences = tokenizer.texts_to_sequences(training_sentences)\n",
        "training_padded = pad_sequences(sequences,maxlen = max_length, padding = \"post\", truncating=trunc_type)\n",
        "\n",
        "testing_seq = tokenizer.texts_to_sequences(testing_sentences)\n",
        "testing_padded = pad_sequences(testing_seq,maxlen = max_length, padding = \"post\", truncating=trunc_type)\n"
      ],
      "execution_count": 0,
      "outputs": []
    },
    {
      "cell_type": "code",
      "metadata": {
        "id": "QSX5JUjXwh3N",
        "colab_type": "code",
        "colab": {}
      },
      "source": [
        "training_labels_final = np.array(training_labels)\n",
        "testing_labels_final = np.array(testing_labels)"
      ],
      "execution_count": 0,
      "outputs": []
    },
    {
      "cell_type": "code",
      "metadata": {
        "id": "6tJdGTYSygPG",
        "colab_type": "code",
        "colab": {
          "base_uri": "https://localhost:8080/",
          "height": 34
        },
        "outputId": "bc0a942d-ed69-4b7f-caa6-e4621c88d7af"
      },
      "source": [
        "la = np.array([1,2,3])\n",
        "la.shape"
      ],
      "execution_count": 29,
      "outputs": [
        {
          "output_type": "execute_result",
          "data": {
            "text/plain": [
              "(3,)"
            ]
          },
          "metadata": {
            "tags": []
          },
          "execution_count": 29
        }
      ]
    },
    {
      "cell_type": "code",
      "metadata": {
        "id": "gCAnZnxzxC5y",
        "colab_type": "code",
        "colab": {
          "base_uri": "https://localhost:8080/",
          "height": 323
        },
        "outputId": "a8e20cb5-0e42-4b28-c0a6-87089767250c"
      },
      "source": [
        "from tensorflow.keras.layers import LSTM\n",
        "model = tf.keras.Sequential([\n",
        "    tf.keras.layers.Embedding(vocab_size,embedding_dim,input_length = max_length),\n",
        "    tf.keras.layers.AveragePooling1D(),\n",
        "    tf.keras.layers.Bidirectional(LSTM(64,input_shape = (embedding_dim*max_length,))),\n",
        "    tf.keras.layers.Dense(64,activation = 'relu'),\n",
        "    tf.keras.layers.Dense(1,activation = 'sigmoid')\n",
        "])\n",
        "model.summary()"
      ],
      "execution_count": 36,
      "outputs": [
        {
          "output_type": "stream",
          "text": [
            "Model: \"sequential_2\"\n",
            "_________________________________________________________________\n",
            "Layer (type)                 Output Shape              Param #   \n",
            "=================================================================\n",
            "embedding_3 (Embedding)      (None, 100, 16)           160000    \n",
            "_________________________________________________________________\n",
            "average_pooling1d_3 (Average (None, 50, 16)            0         \n",
            "_________________________________________________________________\n",
            "bidirectional_2 (Bidirection (None, 128)               41472     \n",
            "_________________________________________________________________\n",
            "dense_4 (Dense)              (None, 64)                8256      \n",
            "_________________________________________________________________\n",
            "dense_5 (Dense)              (None, 1)                 65        \n",
            "=================================================================\n",
            "Total params: 209,793\n",
            "Trainable params: 209,793\n",
            "Non-trainable params: 0\n",
            "_________________________________________________________________\n"
          ],
          "name": "stdout"
        }
      ]
    },
    {
      "cell_type": "code",
      "metadata": {
        "id": "HnZh45TIzNMC",
        "colab_type": "code",
        "colab": {
          "base_uri": "https://localhost:8080/",
          "height": 374
        },
        "outputId": "28aafd31-93ce-41ae-8770-ca8925073580"
      },
      "source": [
        "num_epochs = 10\n",
        "model.compile(optimizer='adam',loss='binary_crossentropy',metrics=['accuracy'])\n",
        "history = model.fit(training_padded,training_labels_final,epochs=num_epochs,validation_data=(testing_padded,testing_labels_final))"
      ],
      "execution_count": 43,
      "outputs": [
        {
          "output_type": "stream",
          "text": [
            "Train on 25000 samples, validate on 25000 samples\n",
            "Epoch 1/10\n",
            "25000/25000 [==============================] - 86s 3ms/sample - loss: 0.3446 - accuracy: 0.8527 - val_loss: 0.4111 - val_accuracy: 0.8097\n",
            "Epoch 2/10\n",
            "25000/25000 [==============================] - 85s 3ms/sample - loss: 0.2773 - accuracy: 0.8882 - val_loss: 0.4158 - val_accuracy: 0.8101\n",
            "Epoch 3/10\n",
            "25000/25000 [==============================] - 84s 3ms/sample - loss: 0.2249 - accuracy: 0.9124 - val_loss: 0.5588 - val_accuracy: 0.7700\n",
            "Epoch 4/10\n",
            "25000/25000 [==============================] - 83s 3ms/sample - loss: 0.1769 - accuracy: 0.9348 - val_loss: 0.5264 - val_accuracy: 0.7932\n",
            "Epoch 5/10\n",
            "25000/25000 [==============================] - 83s 3ms/sample - loss: 0.1238 - accuracy: 0.9556 - val_loss: 0.6948 - val_accuracy: 0.7841\n",
            "Epoch 6/10\n",
            "25000/25000 [==============================] - 84s 3ms/sample - loss: 0.0822 - accuracy: 0.9714 - val_loss: 0.7383 - val_accuracy: 0.7831\n",
            "Epoch 7/10\n",
            "25000/25000 [==============================] - 83s 3ms/sample - loss: 0.0513 - accuracy: 0.9825 - val_loss: 0.9904 - val_accuracy: 0.7842\n",
            "Epoch 8/10\n",
            "25000/25000 [==============================] - 83s 3ms/sample - loss: 0.0335 - accuracy: 0.9884 - val_loss: 1.1264 - val_accuracy: 0.7799\n",
            "Epoch 9/10\n",
            "25000/25000 [==============================] - 83s 3ms/sample - loss: 0.0239 - accuracy: 0.9916 - val_loss: 1.2636 - val_accuracy: 0.7795\n",
            "Epoch 10/10\n",
            "25000/25000 [==============================] - 84s 3ms/sample - loss: 0.0236 - accuracy: 0.9919 - val_loss: 1.2777 - val_accuracy: 0.7787\n"
          ],
          "name": "stdout"
        }
      ]
    },
    {
      "cell_type": "code",
      "metadata": {
        "id": "dh0c7WJwzxnP",
        "colab_type": "code",
        "colab": {
          "base_uri": "https://localhost:8080/",
          "height": 323
        },
        "outputId": "341e89e2-f356-4cb1-f02d-e47279b15029"
      },
      "source": [
        "model2 = tf.keras.Sequential([\n",
        "    tf.keras.layers.Embedding(vocab_size,embedding_dim,input_length = max_length),\n",
        "    tf.keras.layers.AveragePooling1D(),\n",
        "    tf.keras.layers.Bidirectional(LSTM(64,input_shape = (embedding_dim*max_length,))),\n",
        "    tf.keras.layers.Dropout(rate = 0.4),\n",
        "    tf.keras.layers.Dense(64,activation = 'relu'),\n",
        "    tf.keras.layers.Dropout(rate = 0.28),\n",
        "    tf.keras.layers.Dense(1,activation = 'sigmoid')\n",
        "])\n",
        "model.summary()"
      ],
      "execution_count": 46,
      "outputs": [
        {
          "output_type": "stream",
          "text": [
            "Model: \"sequential_2\"\n",
            "_________________________________________________________________\n",
            "Layer (type)                 Output Shape              Param #   \n",
            "=================================================================\n",
            "embedding_3 (Embedding)      (None, 100, 16)           160000    \n",
            "_________________________________________________________________\n",
            "average_pooling1d_3 (Average (None, 50, 16)            0         \n",
            "_________________________________________________________________\n",
            "bidirectional_2 (Bidirection (None, 128)               41472     \n",
            "_________________________________________________________________\n",
            "dense_4 (Dense)              (None, 64)                8256      \n",
            "_________________________________________________________________\n",
            "dense_5 (Dense)              (None, 1)                 65        \n",
            "=================================================================\n",
            "Total params: 209,793\n",
            "Trainable params: 209,793\n",
            "Non-trainable params: 0\n",
            "_________________________________________________________________\n"
          ],
          "name": "stdout"
        }
      ]
    },
    {
      "cell_type": "code",
      "metadata": {
        "id": "qhqeKZ0b5BKZ",
        "colab_type": "code",
        "colab": {
          "base_uri": "https://localhost:8080/",
          "height": 374
        },
        "outputId": "914365c1-4e6c-4adb-fa41-aaa962103b98"
      },
      "source": [
        "num_epochs = 10\n",
        "model2.compile(optimizer='adam',loss='binary_crossentropy',metrics=['accuracy'])\n",
        "history2 = model2.fit(training_padded,training_labels_final,epochs=num_epochs,validation_data=(testing_padded,testing_labels_final))"
      ],
      "execution_count": 47,
      "outputs": [
        {
          "output_type": "stream",
          "text": [
            "Train on 25000 samples, validate on 25000 samples\n",
            "Epoch 1/10\n",
            "25000/25000 [==============================] - 61s 2ms/sample - loss: 0.4663 - accuracy: 0.7672 - val_loss: 0.4251 - val_accuracy: 0.8015\n",
            "Epoch 2/10\n",
            "25000/25000 [==============================] - 60s 2ms/sample - loss: 0.3099 - accuracy: 0.8744 - val_loss: 0.4213 - val_accuracy: 0.8141\n",
            "Epoch 3/10\n",
            "25000/25000 [==============================] - 61s 2ms/sample - loss: 0.2598 - accuracy: 0.8966 - val_loss: 0.4358 - val_accuracy: 0.8037\n",
            "Epoch 4/10\n",
            "25000/25000 [==============================] - 60s 2ms/sample - loss: 0.2110 - accuracy: 0.9202 - val_loss: 0.5255 - val_accuracy: 0.7988\n",
            "Epoch 5/10\n",
            "25000/25000 [==============================] - 61s 2ms/sample - loss: 0.1621 - accuracy: 0.9400 - val_loss: 0.7718 - val_accuracy: 0.7748\n",
            "Epoch 6/10\n",
            "25000/25000 [==============================] - 61s 2ms/sample - loss: 0.1200 - accuracy: 0.9578 - val_loss: 0.6721 - val_accuracy: 0.7835\n",
            "Epoch 7/10\n",
            "25000/25000 [==============================] - 61s 2ms/sample - loss: 0.0805 - accuracy: 0.9709 - val_loss: 0.7747 - val_accuracy: 0.7826\n",
            "Epoch 8/10\n",
            "25000/25000 [==============================] - 61s 2ms/sample - loss: 0.0581 - accuracy: 0.9792 - val_loss: 1.0156 - val_accuracy: 0.7788\n",
            "Epoch 9/10\n",
            "25000/25000 [==============================] - 61s 2ms/sample - loss: 0.0453 - accuracy: 0.9846 - val_loss: 1.1642 - val_accuracy: 0.7773\n",
            "Epoch 10/10\n",
            "25000/25000 [==============================] - 61s 2ms/sample - loss: 0.0342 - accuracy: 0.9879 - val_loss: 1.1565 - val_accuracy: 0.7846\n"
          ],
          "name": "stdout"
        }
      ]
    },
    {
      "cell_type": "code",
      "metadata": {
        "id": "hh8S0oSJ6O0S",
        "colab_type": "code",
        "colab": {}
      },
      "source": [
        "import matplotlib.pyplot as plt\n",
        "def plot_graph(history,string):\n",
        "  plt.plot(history.history[string])\n",
        "  plt.plot(history.history['val_'+string])\n",
        "  plt.xlabel('epochs')\n",
        "  plt.ylabel(string)\n",
        "  plt.legend([string,'val_'+string])\n",
        "  plt.show()"
      ],
      "execution_count": 0,
      "outputs": []
    },
    {
      "cell_type": "code",
      "metadata": {
        "id": "8mQJPUm79yPe",
        "colab_type": "code",
        "colab": {
          "base_uri": "https://localhost:8080/",
          "height": 549
        },
        "outputId": "65e9dc01-df66-48f0-d143-e3064d157afb"
      },
      "source": [
        "plot_graph(history,'accuracy')\n",
        "plot_graph(history,'loss')"
      ],
      "execution_count": 53,
      "outputs": [
        {
          "output_type": "display_data",
          "data": {
            "image/png": "[encoded data removed]",
            "text/plain": [
              "<Figure size 432x288 with 1 Axes>"
            ]
          },
          "metadata": {
            "tags": []
          }
        },
        {
          "output_type": "display_data",
          "data": {
            "image/png": "[encoded data removed]",
            "text/plain": [
              "<Figure size 432x288 with 1 Axes>"
            ]
          },
          "metadata": {
            "tags": []
          }
        }
      ]
    },
    {
      "cell_type": "code",
      "metadata": {
        "id": "ba13UrMS98-k",
        "colab_type": "code",
        "colab": {
          "base_uri": "https://localhost:8080/",
          "height": 549
        },
        "outputId": "97e4f997-0559-4144-b880-fc0c7a564b9f"
      },
      "source": [
        "plot_graph(history2,'accuracy')\n",
        "plot_graph(history2,'loss')"
      ],
      "execution_count": 54,
      "outputs": [
        {
          "output_type": "display_data",
          "data": {
            "image/png": "[encoded data removed]",
            "text/plain": [
              "<Figure size 432x288 with 1 Axes>"
            ]
          },
          "metadata": {
            "tags": []
          }
        },
        {
          "output_type": "display_data",
          "data": {
            "image/png": "[encoded data removed]",
            "text/plain": [
              "<Figure size 432x288 with 1 Axes>"
            ]
          },
          "metadata": {
            "tags": []
          }
        }
      ]
    },
    {
      "cell_type": "code",
      "metadata": {
        "id": "r7TJLq9B-IGG",
        "colab_type": "code",
        "colab": {}
      },
      "source": [
        ""
      ],
      "execution_count": 0,
      "outputs": []
    }
  ]
}